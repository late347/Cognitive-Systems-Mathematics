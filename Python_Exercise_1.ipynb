{
 "cells": [
  {
   "cell_type": "code",
   "execution_count": 32,
   "metadata": {},
   "outputs": [],
   "source": [
    "import numpy as np\n",
    "import numpy.linalg as la\n",
    "import matplotlib.pyplot as plt"
   ]
  },
  {
   "cell_type": "markdown",
   "metadata": {},
   "source": [
    "## 1."
   ]
  },
  {
   "cell_type": "code",
   "execution_count": 47,
   "metadata": {},
   "outputs": [
    {
     "name": "stdout",
     "output_type": "stream",
     "text": [
      "a)  [[27]] \n",
      "\n",
      "b) \n",
      " [[15 30]\n",
      " [ 6 12]] \n",
      "\n",
      "d) \n",
      " [[16]\n",
      " [42]] \n",
      "\n",
      "e) \n",
      " [[22 38]] \n",
      "\n",
      "f) \n",
      " [[316]]\n"
     ]
    }
   ],
   "source": [
    "A = np.array([[3, 6]])\n",
    "B = np.array([[5], [2]])\n",
    "C = np.array([[1, 2], [3, 5]])\n",
    "D = np.array([[4], [6]])\n",
    "\n",
    "print('a) ', A.dot(B), '\\n')\n",
    "print('b) \\n', B.dot(A), '\\n')\n",
    "# c) not defined\n",
    "print('d) \\n', C.dot(D), '\\n')\n",
    "print('e) \\n', D.T.dot(C), '\\n')\n",
    "print('f) \\n', D.T.dot(C).dot(D))"
   ]
  },
  {
   "cell_type": "markdown",
   "metadata": {},
   "source": [
    "## 2."
   ]
  },
  {
   "cell_type": "code",
   "execution_count": 23,
   "metadata": {},
   "outputs": [
    {
     "name": "stdout",
     "output_type": "stream",
     "text": [
      "b) \n",
      " [[ 0  0]\n",
      " [ 0 10]\n",
      " [ 0  0]]\n",
      "c) \n",
      " [[ 0 16]\n",
      " [ 0 10]] \n",
      "\n",
      "d) \n",
      " [[ 0  0  0]\n",
      " [ 8 10  8]\n",
      " [ 0  0  0]] \n",
      "\n",
      "e) \n",
      " [[10  0]\n",
      " [ 0 20]\n",
      " [30  0]] \n",
      "\n",
      "f) \n",
      " [[11 10]\n",
      " [10 12]\n",
      " [13 10]] \n",
      "\n"
     ]
    }
   ],
   "source": [
    "A = np.array([[1, 0], [0, 2], [3, 0]])\n",
    "B = np.array([[0, 4], [0, 5], [0, 4]])\n",
    "\n",
    "#  a) not defined\n",
    "print('b) \\n', A*B)\n",
    "print('c) \\n', A.T.dot(B), '\\n')\n",
    "print('d) \\n', A.dot(B.T), '\\n')\n",
    "print('e) \\n', 10*A, '\\n')\n",
    "print('f) \\n', 10 + A, '\\n')"
   ]
  },
  {
   "cell_type": "markdown",
   "metadata": {},
   "source": [
    "## 3."
   ]
  },
  {
   "cell_type": "code",
   "execution_count": 26,
   "metadata": {},
   "outputs": [
    {
     "data": {
      "image/png": "[encoded data removed]",
      "text/plain": [
       "<Figure size 432x288 with 1 Axes>"
      ]
     },
     "metadata": {
      "needs_background": "light"
     },
     "output_type": "display_data"
    }
   ],
   "source": [
    "x = np.linspace(-2, 2, 100)\n",
    "g = 1/(1 + np.exp(x))\n",
    "\n",
    "plt.plot(x, g)\n",
    "plt.grid()\n",
    "plt.show()       "
   ]
  },
  {
   "cell_type": "markdown",
   "metadata": {},
   "source": [
    "## 4."
   ]
  },
  {
   "cell_type": "code",
   "execution_count": 31,
   "metadata": {},
   "outputs": [
    {
     "data": {
      "image/png": "[encoded data removed]",
      "text/plain": [
       "<Figure size 432x288 with 1 Axes>"
      ]
     },
     "metadata": {
      "needs_background": "light"
     },
     "output_type": "display_data"
    }
   ],
   "source": [
    "x = np.linspace(0, 5, 1000)\n",
    "f = (x**3 + np.abs(x) + np.log(x + 10**(-8))) / (np.sqrt(100 + x) + 0.01*x*np.exp(x))\n",
    "\n",
    "plt.plot(x, f)\n",
    "plt.grid()\n",
    "plt.show()"
   ]
  },
  {
   "cell_type": "markdown",
   "metadata": {},
   "source": [
    "## 5."
   ]
  },
  {
   "cell_type": "code",
   "execution_count": 33,
   "metadata": {},
   "outputs": [
    {
     "name": "stdout",
     "output_type": "stream",
     "text": [
      "[[2.]\n",
      " [3.]\n",
      " [1.]]\n"
     ]
    }
   ],
   "source": [
    "A = np.array([[1, 2, 4], [-3, 1, 5], [2, -4, 1]])\n",
    "B = np.array([[12], [2], [-7]])\n",
    "\n",
    "X = la.inv(A).dot(B)\n",
    "print(X)"
   ]
  },
  {
   "cell_type": "markdown",
   "metadata": {},
   "source": [
    "## 6."
   ]
  },
  {
   "cell_type": "code",
   "execution_count": 35,
   "metadata": {},
   "outputs": [],
   "source": [
    "A = np.array([[2, 5, -1, 3, 6], [1, 0, 0, -2, 0],\n",
    "              [4, 1, -2, 0, 7], [0, 3, 5, 1, -1]])"
   ]
  },
  {
   "cell_type": "code",
   "execution_count": 42,
   "metadata": {},
   "outputs": [
    {
     "name": "stdout",
     "output_type": "stream",
     "text": [
      "a)  2 ,  -2 ,  1\n"
     ]
    }
   ],
   "source": [
    "print('a) ', A[0, 0], ', ', A[1, 3], ', ', A[3, 3])"
   ]
  },
  {
   "cell_type": "code",
   "execution_count": 38,
   "metadata": {},
   "outputs": [
    {
     "name": "stdout",
     "output_type": "stream",
     "text": [
      "b)  [ 4  1 -2  0  7]\n"
     ]
    }
   ],
   "source": [
    "print('b) ', A[2,:])"
   ]
  },
  {
   "cell_type": "code",
   "execution_count": 41,
   "metadata": {},
   "outputs": [
    {
     "name": "stdout",
     "output_type": "stream",
     "text": [
      "c) \n",
      " [[ 2  5 -1]\n",
      " [ 1  0  0]\n",
      " [ 4  1 -2]\n",
      " [ 0  3  5]]\n"
     ]
    }
   ],
   "source": [
    "print('c) \\n', A[:,0:3])"
   ]
  },
  {
   "cell_type": "code",
   "execution_count": 6,
   "metadata": {},
   "outputs": [
    {
     "name": "stdout",
     "output_type": "stream",
     "text": [
      "[[ 1  2  7  8]\n",
      " [ 3  4  9 10]\n",
      " [ 5  6 11 12]]\n"
     ]
    }
   ],
   "source": [
    "C = np.concatenate((A, B), axis=1)\n",
    "print(C)"
   ]
  },
  {
   "cell_type": "code",
   "execution_count": 8,
   "metadata": {},
   "outputs": [
    {
     "name": "stdout",
     "output_type": "stream",
     "text": [
      "[[ 1  2]\n",
      " [ 3  4]\n",
      " [ 5  6]\n",
      " [ 7  8]\n",
      " [ 9 10]\n",
      " [11 12]]\n"
     ]
    }
   ],
   "source": [
    "D = np.concatenate((A, B), axis=0)\n",
    "print(D)"
   ]
  },
  {
   "cell_type": "markdown",
   "metadata": {},
   "source": [
    "## 7."
   ]
  },
  {
   "cell_type": "code",
   "execution_count": 46,
   "metadata": {},
   "outputs": [
    {
     "name": "stdout",
     "output_type": "stream",
     "text": [
      "C = \n",
      " [[1 0 0 4]\n",
      " [0 2 0 5]\n",
      " [3 0 0 4]] \n",
      "\n",
      "D = \n",
      " [[1 0]\n",
      " [0 2]\n",
      " [3 0]\n",
      " [0 4]\n",
      " [0 5]\n",
      " [0 4]]\n"
     ]
    }
   ],
   "source": [
    "A = np.array([[1, 0], [0, 2], [3, 0]])\n",
    "B = np.array([[0, 4], [0, 5], [0, 4]])\n",
    "\n",
    "C = np.concatenate((A, B), axis=1)\n",
    "D = np.concatenate((A, B), axis=0)\n",
    "\n",
    "print('C = \\n', C, '\\n')\n",
    "print('D = \\n', D)"
   ]
  },
  {
   "cell_type": "code",
   "execution_count": null,
   "metadata": {},
   "outputs": [],
   "source": []
  }
 ],
 "metadata": {
  "kernelspec": {
   "display_name": "Python 3",
   "language": "python",
   "name": "python3"
  },
  "language_info": {
   "codemirror_mode": {
    "name": "ipython",
    "version": 3
   },
   "file_extension": ".py",
   "mimetype": "text/x-python",
   "name": "python",
   "nbconvert_exporter": "python",
   "pygments_lexer": "ipython3",
   "version": "3.6.7"
  }
 },
 "nbformat": 4,
 "nbformat_minor": 2
}
