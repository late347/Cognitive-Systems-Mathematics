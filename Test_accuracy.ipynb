{
 "cells": [
  {
   "cell_type": "code",
   "execution_count": 2,
   "metadata": {},
   "outputs": [
    {
     "name": "stdout",
     "output_type": "stream",
     "text": [
      "Accuracy = 0.9413\n"
     ]
    }
   ],
   "source": [
    "import numpy as np\n",
    "import matplotlib.pyplot as plt\n",
    "import struct\n",
    "\n",
    "# Load MNIST-files into numpy arrays\n",
    "def read_idx(filename):\n",
    "    with open(filename, 'rb') as f:\n",
    "        zero, data_type, dims = struct.unpack('>HBB', f.read(4))\n",
    "        shape = tuple(struct.unpack('>I', f.read(4))[0] for d in range(dims))\n",
    "        return np.fromstring(f.read(), dtype=np.uint8).reshape(shape)\n",
    "\n",
    "def sigmoid(x):\n",
    "    return 1/(1 + np.exp(-x))\n",
    "\n",
    "\n",
    "# Load test images\n",
    "\n",
    "X_test = read_idx('t10k-images.idx3-ubyte')\n",
    "y_test = read_idx('t10k-labels.idx1-ubyte')\n",
    "\n",
    "# Scale the grayscale values [0, 255] into [0, 1]\n",
    "X_test = X_test.astype('float32')\n",
    "X_test /= 255\n",
    "X_test = X_test.reshape(10000, 784)\n",
    "\n",
    "# Convert the target values into a \"one hot\" array,\n",
    "# for axample: 4 -> [0, 0, 0, 0, 1, 0, 0, 0, 0, 0]\n",
    "Y_test = np.zeros((10000, 10))\n",
    "for k in range(0, 10000):\n",
    "    Y_test[k, y_test[k]] = 1\n",
    "    \n",
    "    \n",
    "# Load trained coefficients\n",
    "\n",
    "W1 = np.load('W1.npy')\n",
    "W2 = np.load('W2.npy')\n",
    "W3 = np.load('W3.npy')\n",
    "\n",
    "\n",
    "# Run\n",
    "\n",
    "n_correct = 0  # Number of correctly classified images\n",
    "\n",
    "for k in range(0, 10000):\n",
    "    A1 = np.append(1, X_test[k, :]).reshape((785, 1))\n",
    "    A2 = np.append(1, sigmoid(np.dot(W1, A1))).reshape((17, 1))\n",
    "    A3 = np.append(1, sigmoid(np.dot(W2, A2))).reshape((17, 1))\n",
    "    A4 = sigmoid(np.dot(W3, A3))\n",
    "    \n",
    "    if (np.argmax(A4) == y_test[k]):\n",
    "        n_correct = n_correct + 1\n",
    "        \n",
    "print('Accuracy =', n_correct/10000)"
   ]
  },
  {
   "cell_type": "code",
   "execution_count": null,
   "metadata": {},
   "outputs": [],
   "source": []
  }
 ],
 "metadata": {
  "kernelspec": {
   "display_name": "Python 3",
   "language": "python",
   "name": "python3"
  },
  "language_info": {
   "codemirror_mode": {
    "name": "ipython",
    "version": 3
   },
   "file_extension": ".py",
   "mimetype": "text/x-python",
   "name": "python",
   "nbconvert_exporter": "python",
   "pygments_lexer": "ipython3",
   "version": "3.6.3"
  }
 },
 "nbformat": 4,
 "nbformat_minor": 2
}
