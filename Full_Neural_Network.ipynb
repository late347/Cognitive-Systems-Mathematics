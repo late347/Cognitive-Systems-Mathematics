{
 "cells": [
  {
   "cell_type": "markdown",
   "metadata": {},
   "source": [
    "# Full Neural Network"
   ]
  },
  {
   "cell_type": "markdown",
   "metadata": {},
   "source": [
    "We use the handwritten numbers from the MNIST database. Download the files from <a href=\"http://yann.lecun.com/exdb/mnist/\">http://yann.lecun.com/exdb/mnist/</a> and unzip them into the same folder with this Jupyter notebook."
   ]
  },
  {
   "cell_type": "code",
   "execution_count": 1,
   "metadata": {},
   "outputs": [],
   "source": [
    "import numpy as np\n",
    "import matplotlib.pyplot as plt\n",
    "import struct\n",
    "\n",
    "# Load MNIST-files into numpy arrays\n",
    "# http://yann.lecun.com/exdb/mnist/\n",
    "def read_idx(filename):\n",
    "    with open(filename, 'rb') as f:\n",
    "        zero, data_type, dims = struct.unpack('>HBB', f.read(4))\n",
    "        shape = tuple(struct.unpack('>I', f.read(4))[0] for d in range(dims))\n",
    "        return np.fromstring(f.read(), dtype=np.uint8).reshape(shape)\n",
    "\n",
    "def sigmoid(x):\n",
    "    return 1/(1 + np.exp(-x))"
   ]
  },
  {
   "cell_type": "markdown",
   "metadata": {},
   "source": [
    "## Load the training and test images"
   ]
  },
  {
   "cell_type": "code",
   "execution_count": 2,
   "metadata": {},
   "outputs": [],
   "source": [
    "X_train = read_idx('train-images.idx3-ubyte')\n",
    "y_train = read_idx('train-labels.idx1-ubyte')\n",
    "X_test = read_idx('t10k-images.idx3-ubyte')\n",
    "y_test = read_idx('t10k-labels.idx1-ubyte')\n",
    "\n",
    "\n",
    "# Scale the grayscale values [0, 255] into [0, 1]\n",
    "X_train = X_train.astype('float32')\n",
    "X_train /= 255\n",
    "X_train = X_train.reshape(60000, 784)\n",
    "X_test = X_test.astype('float32')\n",
    "X_test /= 255\n",
    "X_test = X_test.reshape(10000, 784)\n",
    "\n",
    "# Convert the target values into a \"one hot\" array,\n",
    "# for axample: 4 -> [0, 0, 0, 0, 1, 0, 0, 0, 0, 0]\n",
    "Y_train = np.zeros((60000, 10))\n",
    "Y_test = np.zeros((10000, 10))\n",
    "for k in range(0, 60000):\n",
    "    Y_train[k, y_train[k]] = 1\n",
    "for k in range(0, 10000):\n",
    "    Y_test[k, y_test[k]] = 1"
   ]
  },
  {
   "cell_type": "markdown",
   "metadata": {},
   "source": [
    "## Train the network using the backpropagation algorithm"
   ]
  },
  {
   "cell_type": "code",
   "execution_count": 3,
   "metadata": {},
   "outputs": [
    {
     "name": "stdout",
     "output_type": "stream",
     "text": [
      "Epoch 0 :    J =  0.301968599174\n",
      "Epoch 1 :    J =  0.169226673194\n",
      "Epoch 2 :    J =  0.122336486292\n",
      "Epoch 3 :    J =  0.100630613881\n",
      "Epoch 4 :    J =  0.0910060132552\n",
      "Epoch 5 :    J =  0.0890566056056\n",
      "Epoch 6 :    J =  0.0852122696759\n",
      "Epoch 7 :    J =  0.0798008755016\n",
      "Epoch 8 :    J =  0.0750097775056\n",
      "Epoch 9 :    J =  0.0713552422062\n",
      "Epoch 10 :    J =  0.0676882915496\n",
      "Epoch 11 :    J =  0.0640774969618\n",
      "Epoch 12 :    J =  0.0614171858638\n",
      "Epoch 13 :    J =  0.0599291629291\n",
      "Epoch 14 :    J =  0.0591251461879\n",
      "Epoch 15 :    J =  0.0580315600044\n",
      "Epoch 16 :    J =  0.0562594020295\n",
      "Epoch 17 :    J =  0.0540028497434\n",
      "Epoch 18 :    J =  0.0515162466472\n",
      "Epoch 19 :    J =  0.0491338225029\n",
      "Epoch 20 :    J =  0.0470304467704\n",
      "Epoch 21 :    J =  0.0451659707195\n",
      "Epoch 22 :    J =  0.0434832432809\n",
      "Epoch 23 :    J =  0.0420753618343\n",
      "Epoch 24 :    J =  0.040970955986\n",
      "Epoch 25 :    J =  0.0401365951093\n",
      "Epoch 26 :    J =  0.0395383386785\n",
      "Epoch 27 :    J =  0.0391286170951\n",
      "Epoch 28 :    J =  0.0388568258122\n",
      "Epoch 29 :    J =  0.038679589505\n",
      "Epoch 30 :    J =  0.0385708965656\n",
      "Epoch 31 :    J =  0.0385228201393\n",
      "Epoch 32 :    J =  0.0385305022121\n",
      "Epoch 33 :    J =  0.038581968609\n",
      "Epoch 34 :    J =  0.0386548953966\n",
      "Epoch 35 :    J =  0.0387249770122\n",
      "Epoch 36 :    J =  0.0387774185868\n",
      "Epoch 37 :    J =  0.0388082791637\n",
      "Epoch 38 :    J =  0.0388213760055\n",
      "Epoch 39 :    J =  0.0388237044753\n",
      "Epoch 40 :    J =  0.0388185674862\n",
      "Epoch 41 :    J =  0.038801321054\n",
      "Epoch 42 :    J =  0.0387602770801\n",
      "Epoch 43 :    J =  0.038680347212\n",
      "Epoch 44 :    J =  0.0385469773077\n",
      "Epoch 45 :    J =  0.038349443369\n",
      "Epoch 46 :    J =  0.0380837001249\n",
      "Epoch 47 :    J =  0.0377549781553\n",
      "Epoch 48 :    J =  0.0373772133313\n",
      "Epoch 49 :    J =  0.0369680639214\n",
      "Epoch 50 :    J =  0.0365454019831\n",
      "Epoch 51 :    J =  0.0361258514036\n",
      "Epoch 52 :    J =  0.0357239594997\n",
      "Epoch 53 :    J =  0.0353514390557\n",
      "Epoch 54 :    J =  0.0350157399266\n",
      "Epoch 55 :    J =  0.0347189297993\n",
      "Epoch 56 :    J =  0.0344578945961\n",
      "Epoch 57 :    J =  0.0342258673411\n",
      "Epoch 58 :    J =  0.0340146455922\n",
      "Epoch 59 :    J =  0.0338166416053\n",
      "Epoch 60 :    J =  0.0336256611061\n",
      "Epoch 61 :    J =  0.0334349380921\n",
      "Epoch 62 :    J =  0.0332336000654\n",
      "Epoch 63 :    J =  0.0330109096385\n",
      "Epoch 64 :    J =  0.0327675279552\n",
      "Epoch 65 :    J =  0.0325123477858\n",
      "Epoch 66 :    J =  0.0322520049464\n",
      "Epoch 67 :    J =  0.031988775915\n",
      "Epoch 68 :    J =  0.0317227222611\n",
      "Epoch 69 :    J =  0.0314534146976\n",
      "Epoch 70 :    J =  0.0311808216092\n",
      "Epoch 71 :    J =  0.030905691917\n",
      "Epoch 72 :    J =  0.0306294510363\n",
      "Epoch 73 :    J =  0.0303534793685\n",
      "Epoch 74 :    J =  0.0300778026264\n",
      "Epoch 75 :    J =  0.029799763766\n",
      "Epoch 76 :    J =  0.0295147462671\n",
      "Epoch 77 :    J =  0.029221802241\n",
      "Epoch 78 :    J =  0.02892879963\n",
      "Epoch 79 :    J =  0.0286462964179\n",
      "Epoch 80 :    J =  0.0283799282732\n",
      "Epoch 81 :    J =  0.0281311517806\n",
      "Epoch 82 :    J =  0.0278995948346\n",
      "Epoch 83 :    J =  0.0276839258822\n",
      "Epoch 84 :    J =  0.0274821623679\n",
      "Epoch 85 :    J =  0.0272919676708\n",
      "Epoch 86 :    J =  0.0271110003018\n",
      "Epoch 87 :    J =  0.0269371908714\n",
      "Epoch 88 :    J =  0.0267687931993\n",
      "Epoch 89 :    J =  0.0266041719756\n",
      "Epoch 90 :    J =  0.026441492559\n",
      "Epoch 91 :    J =  0.0262786737051\n",
      "Epoch 92 :    J =  0.0261142556372\n",
      "Epoch 93 :    J =  0.0259489250033\n",
      "Epoch 94 :    J =  0.0257855935605\n",
      "Epoch 95 :    J =  0.0256293847334\n",
      "Epoch 96 :    J =  0.0254880793906\n",
      "Epoch 97 :    J =  0.0253693143773\n",
      "Epoch 98 :    J =  0.0252651253099\n",
      "Epoch 99 :    J =  0.025157996357\n",
      "Epoch 100 :    J =  0.0250463885335\n"
     ]
    },
    {
     "data": {
      "image/png": "[encoded data removed]",
      "text/plain": [
       "<matplotlib.figure.Figure at 0x10e10d898>"
      ]
     },
     "metadata": {},
     "output_type": "display_data"
    }
   ],
   "source": [
    "# Initialize the coefficients with random values between [-1, 1]\n",
    "W1 = 2*np.random.random((16, 785)) - 1\n",
    "W2 = 2*np.random.random((16, 17)) - 1\n",
    "W3 = 2*np.random.random((10, 17))- 1\n",
    "\n",
    "alpha = 0.5\n",
    "N = 60000 # Number of training images\n",
    "epochs = 100\n",
    "J = np.zeros(epochs+1)  # Square errors, only for printing\n",
    "\n",
    "\n",
    "for epoch in range(0, epochs+1):\n",
    "    for m in range(0, N, 100): # Batch size 100\n",
    "        \n",
    "        error = 0\n",
    "        D1 = 0\n",
    "        D2 = 0\n",
    "        D3 = 0\n",
    "    \n",
    "        for k in range(0, 100):\n",
    "            n = m + k\n",
    "            A1 = np.append(1, X_train[n, :]).reshape((785, 1))\n",
    "            Y = Y_train[n, :].reshape((10, 1))\n",
    "            \n",
    "            # Feed forward\n",
    "            A2 = np.append(1, sigmoid(np.dot(W1, A1))).reshape((17, 1))\n",
    "            A3 = np.append(1, sigmoid(np.dot(W2, A2))).reshape((17, 1))\n",
    "            A4 = sigmoid(np.dot(W3, A3))\n",
    "            \n",
    "            # Calculate the square error, used only for printing\n",
    "            error = error + np.dot((A4 - Y).transpose(), (A4 - Y))\n",
    "            \n",
    "            # Backpropagation\n",
    "            d4 = A4 - Y\n",
    "            d3 = A3 * (1 - A3) * np.dot(W3.transpose(), d4)\n",
    "            d3 = d3[1:]  # Remove the error of the constant a_0 = 1\n",
    "            d2 = A2 * (1 - A2) * np.dot(W2.transpose(), d3)\n",
    "            d2 = d2[1:]  # Remove the error of the constant a_0 = 1\n",
    "        \n",
    "            D3 = D3 + np.dot(d4, A3.transpose())\n",
    "            D2 = D2 + np.dot(d3, A2.transpose())\n",
    "            D1 = D1 + np.dot(d2, A1.transpose())\n",
    "        \n",
    "        W1 = W1 - alpha*D1/100\n",
    "        W2 = W2 - alpha*D2/100\n",
    "        W3 = W3 - alpha*D3/100\n",
    "    \n",
    "    J[epoch] = error/100\n",
    "    print('Epoch', epoch, ':    J = ', J[epoch])\n",
    "    \n",
    "plt.figure()\n",
    "plt.plot(J)\n",
    "plt.grid()\n",
    "plt.show()"
   ]
  },
  {
   "cell_type": "markdown",
   "metadata": {},
   "source": [
    "## Test the accuracy of the network"
   ]
  },
  {
   "cell_type": "code",
   "execution_count": 4,
   "metadata": {},
   "outputs": [
    {
     "name": "stdout",
     "output_type": "stream",
     "text": [
      "Accuracy = 0.9485\n"
     ]
    }
   ],
   "source": [
    "n_correct = 0  # Number of correctly classified images\n",
    "\n",
    "for k in range(0, 10000):\n",
    "    A1 = np.append(1, X_test[k, :]).reshape((785, 1))\n",
    "    A2 = np.append(1, sigmoid(np.dot(W1, A1))).reshape((17, 1))\n",
    "    A3 = np.append(1, sigmoid(np.dot(W2, A2))).reshape((17, 1))\n",
    "    A4 = sigmoid(np.dot(W3, A3))\n",
    "    \n",
    "    if (np.argmax(A4) == y_test[k]):\n",
    "        n_correct = n_correct + 1\n",
    "        \n",
    "print('Accuracy =', n_correct/10000)"
   ]
  },
  {
   "cell_type": "markdown",
   "metadata": {},
   "source": [
    "## Use the network to recognize the test images"
   ]
  },
  {
   "cell_type": "code",
   "execution_count": 7,
   "metadata": {},
   "outputs": [
    {
     "data": {
      "image/png": "[encoded data removed]",
      "text/plain": [
       "<matplotlib.figure.Figure at 0x1115b11d0>"
      ]
     },
     "metadata": {},
     "output_type": "display_data"
    },
    {
     "data": {
      "image/png": "[encoded data removed]",
      "text/plain": [
       "<matplotlib.figure.Figure at 0x1117c5cc0>"
      ]
     },
     "metadata": {},
     "output_type": "display_data"
    }
   ],
   "source": [
    "n = 150  # <= Change this to choose a test image [0, 9999]\n",
    "\n",
    "# This is the Complete Neural Network Forward Pass\n",
    "A1 = np.append(1, X_test[n, :]).reshape((785, 1))\n",
    "A2 = np.append(1, sigmoid(np.dot(W1, A1))).reshape((17, 1))\n",
    "A3 = np.append(1, sigmoid(np.dot(W2, A2))).reshape((17, 1))\n",
    "A4 = sigmoid(np.dot(W3, A3))\n",
    "\n",
    "\n",
    "# Compare the prediction with the correct label\n",
    "Y = Y_test[n, :].reshape((10, 1))\n",
    "\n",
    "plt.figure(1)\n",
    "image = X_test[n, :].reshape(28, 28)\n",
    "plt.imshow(image, cmap='gray')\n",
    "    \n",
    "plt.figure(2)\n",
    "ind = np.arange(0, 10)\n",
    "plt.subplot(1, 2, 1)\n",
    "plt.bar(ind, Y.flatten())\n",
    "plt.xticks(range(10))\n",
    "plt.title('Original')\n",
    "    \n",
    "plt.subplot(1, 2, 2)\n",
    "plt.bar(ind, A4.flatten())\n",
    "plt.xticks(range(10))\n",
    "plt.title('Predicted')\n",
    "   \n",
    "plt.show()"
   ]
  },
  {
   "cell_type": "code",
   "execution_count": null,
   "metadata": {},
   "outputs": [],
   "source": []
  }
 ],
 "metadata": {
  "kernelspec": {
   "display_name": "Python 3",
   "language": "python",
   "name": "python3"
  },
  "language_info": {
   "codemirror_mode": {
    "name": "ipython",
    "version": 3
   },
   "file_extension": ".py",
   "mimetype": "text/x-python",
   "name": "python",
   "nbconvert_exporter": "python",
   "pygments_lexer": "ipython3",
   "version": "3.6.4"
  }
 },
 "nbformat": 4,
 "nbformat_minor": 2
}
