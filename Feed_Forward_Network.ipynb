{
 "cells": [
  {
   "cell_type": "code",
   "execution_count": 21,
   "metadata": {},
   "outputs": [],
   "source": [
    "import numpy as np\n",
    "import matplotlib.pyplot as plt\n",
    "import struct\n",
    "\n",
    "# Load MNIST-files into numpy arrays\n",
    "def read_idx(filename):\n",
    "    with open(filename, 'rb') as f:\n",
    "        zero, data_type, dims = struct.unpack('>HBB', f.read(4))\n",
    "        shape = tuple(struct.unpack('>I', f.read(4))[0] for d in range(dims))\n",
    "        return np.fromstring(f.read(), dtype=np.uint8).reshape(shape)\n",
    "\n",
    "def sigmoid(x):\n",
    "    return 1/(1 + np.exp(-x))"
   ]
  },
  {
   "cell_type": "markdown",
   "metadata": {},
   "source": [
    "## Load the test images"
   ]
  },
  {
   "cell_type": "code",
   "execution_count": 22,
   "metadata": {},
   "outputs": [],
   "source": [
    "X_test = read_idx('t10k-images.idx3-ubyte')\n",
    "y_test = read_idx('t10k-labels.idx1-ubyte')\n",
    "\n",
    "# Scale the grayscale values [0, 255] into [0, 1]\n",
    "X_test = X_test.astype('float32')\n",
    "X_test /= 255\n",
    "X_test = X_test.reshape(10000, 784)\n",
    "\n",
    "# Convert the target values into a \"one hot\" array,\n",
    "# for axample: 4 -> [0, 0, 0, 0, 1, 0, 0, 0, 0, 0]\n",
    "Y_test = np.zeros((10000, 10))\n",
    "for k in range(0, 10000):\n",
    "    Y_test[k, y_test[k]] = 1"
   ]
  },
  {
   "cell_type": "markdown",
   "metadata": {},
   "source": [
    "## Load the trained coefficient matrices"
   ]
  },
  {
   "cell_type": "code",
   "execution_count": 23,
   "metadata": {},
   "outputs": [],
   "source": [
    "W1 = np.load('W1.npy')\n",
    "W2 = np.load('W2.npy')\n",
    "W3 = np.load('W3.npy')"
   ]
  },
  {
   "cell_type": "markdown",
   "metadata": {},
   "source": [
    "# Choose an image"
   ]
  },
  {
   "cell_type": "code",
   "execution_count": 24,
   "metadata": {},
   "outputs": [],
   "source": [
    "n = 18  # <= Change this to choose a test image [0, 9999]"
   ]
  },
  {
   "cell_type": "markdown",
   "metadata": {},
   "source": [
    "# Recognize the image using the trained network"
   ]
  },
  {
   "cell_type": "code",
   "execution_count": 25,
   "metadata": {},
   "outputs": [
    {
     "data": {
      "image/png": "[encoded data removed]",
      "text/plain": [
       "<matplotlib.figure.Figure at 0x104a33eb8>"
      ]
     },
     "metadata": {},
     "output_type": "display_data"
    },
    {
     "data": {
      "image/png": "[encoded data removed]",
      "text/plain": [
       "<matplotlib.figure.Figure at 0x11446d0b8>"
      ]
     },
     "metadata": {},
     "output_type": "display_data"
    }
   ],
   "source": [
    "# This is the Complete Neural Network Forward Pass\n",
    "\n",
    "A1 = np.append(1, X_test[n, :]).reshape((785, 1))\n",
    "A2 = np.append(1, sigmoid(np.dot(W1, A1))).reshape((17, 1))\n",
    "A3 = np.append(1, sigmoid(np.dot(W2, A2))).reshape((17, 1))\n",
    "A4 = sigmoid(np.dot(W3, A3))\n",
    "\n",
    "\n",
    "# Compare the prediction with the correct label\n",
    "\n",
    "Y = Y_test[n, :].reshape((10, 1))\n",
    "\n",
    "plt.figure(1)\n",
    "image = X_test[n, :].reshape(28, 28)\n",
    "plt.imshow(image, cmap='gray')\n",
    "    \n",
    "plt.figure(2)\n",
    "ind = np.arange(0, 10)\n",
    "plt.subplot(1, 2, 1)\n",
    "plt.bar(ind, Y.flatten())\n",
    "plt.xticks(range(10))\n",
    "plt.title('Original')\n",
    "    \n",
    "plt.subplot(1, 2, 2)\n",
    "plt.bar(ind, A4.flatten())\n",
    "plt.xticks(range(10))\n",
    "plt.title('Predicted')\n",
    "   \n",
    "plt.show()"
   ]
  },
  {
   "cell_type": "code",
   "execution_count": null,
   "metadata": {},
   "outputs": [],
   "source": []
  }
 ],
 "metadata": {
  "kernelspec": {
   "display_name": "Python 3",
   "language": "python",
   "name": "python3"
  },
  "language_info": {
   "codemirror_mode": {
    "name": "ipython",
    "version": 3
   },
   "file_extension": ".py",
   "mimetype": "text/x-python",
   "name": "python",
   "nbconvert_exporter": "python",
   "pygments_lexer": "ipython3",
   "version": "3.6.3"
  }
 },
 "nbformat": 4,
 "nbformat_minor": 2
}
