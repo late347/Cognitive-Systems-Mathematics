{
 "cells": [
  {
   "cell_type": "code",
   "execution_count": 5,
   "metadata": {},
   "outputs": [],
   "source": [
    "import numpy as np\n",
    "import matplotlib.pyplot as plt"
   ]
  },
  {
   "cell_type": "markdown",
   "metadata": {},
   "source": [
    "<h1>Python Exercise 3: Linear Regression with Multiple Variables</h1>"
   ]
  },
  {
   "cell_type": "markdown",
   "metadata": {},
   "source": [
    "Load the dataset representing the length of a fish as a function of its age and water temperature. See more details in <a href=\"http://people.sc.fsu.edu/~jburkardt/datasets/regression/x06.txt\">link</a>. \n",
    "\n",
    "Dataset contain 2 feature variables and one target variable, and 44 samples. Save the file as 'fish.txt' and load data with the commands below. Create a $44\\times 3$ matrix $X$ by adding a constant column of 1's. Format $y$ as a $44\\times 1$ matrix.\n",
    "\n",
    "Create a model\n",
    "$$F = \\theta_0 + \\theta_1 A + \\theta_1 T$$\n",
    "where $F$ is the fish size, $A$ as the age of the fish and $T$ is the water temperature.\n",
    "\n",
    "Calculate the coefficients by\n",
    "$$M = (X^T X)^{-1} X^T y$$\n",
    "\n",
    "Calculate the mean average error (MAE) between the estimated and measured fish sizes by\n",
    "$$\\frac{1}{n} \\sum_{i=1}^n |\\hat{F} - F|$$\n",
    "where $\\hat{F}$ is the estimated fish size and $F$ is the measured fish size."
   ]
  },
  {
   "cell_type": "code",
   "execution_count": 6,
   "metadata": {},
   "outputs": [],
   "source": [
    "data = np.loadtxt('fish.txt', skiprows=37)\n",
    "X = data[:, 1:3]\n",
    "y = data[:, 3:]"
   ]
  },
  {
   "cell_type": "code",
   "execution_count": 7,
   "metadata": {},
   "outputs": [
    {
     "name": "stdout",
     "output_type": "stream",
     "text": [
      "Mean average error = 459.37296590474193\n"
     ]
    }
   ],
   "source": [
    "n = len(X)\n",
    "X = np.concatenate((np.ones((n, 1)), X), axis=1)\n",
    "y = y.reshape(n, 1)\n",
    "\n",
    "M = np.linalg.inv(X.T.dot(X)).dot(X.T).dot(y)\n",
    "\n",
    "y_hat = X.dot(M)\n",
    "print('Mean average error =', np.sum(np.abs(y_hat - y))/n)"
   ]
  },
  {
   "cell_type": "code",
   "execution_count": 8,
   "metadata": {},
   "outputs": [
    {
     "name": "stdout",
     "output_type": "stream",
     "text": [
      "Comparing original y-values with predictions:\n"
     ]
    },
    {
     "data": {
      "text/plain": [
       "array([[ 620.        , 1611.29465238],\n",
       "       [1315.        , 1978.6641971 ],\n",
       "       [2120.        , 2319.79306006],\n",
       "       [2600.        , 2687.16260478],\n",
       "       [3110.        , 3054.5321495 ],\n",
       "       [3535.        , 3421.90169422],\n",
       "       [3935.        , 3789.27123895],\n",
       "       [4465.        , 4156.64078367],\n",
       "       [4530.        , 4524.01032839],\n",
       "       [4570.        , 4891.37987311],\n",
       "       [4600.        , 5258.74941783],\n",
       "       [ 625.        , 1398.46737966],\n",
       "       [1215.        , 1765.83692438],\n",
       "       [2110.        , 2106.96578733],\n",
       "       [2805.        , 2474.33533205],\n",
       "       [3255.        , 2841.70487678],\n",
       "       [4015.        , 3209.0744215 ],\n",
       "       [4315.        , 3576.44396622],\n",
       "       [4495.        , 3943.81351094],\n",
       "       [4535.        , 4311.18305566],\n",
       "       [4600.        , 4678.55260038],\n",
       "       [4600.        , 5045.9221451 ],\n",
       "       [ 590.        , 1185.64010693],\n",
       "       [1305.        , 1553.00965165],\n",
       "       [2140.        , 1894.13851461],\n",
       "       [2890.        , 2261.50805933],\n",
       "       [3920.        , 2628.87760405],\n",
       "       [3920.        , 2996.24714877],\n",
       "       [4515.        , 3363.61669349],\n",
       "       [4520.        , 3730.98623821],\n",
       "       [4525.        , 4098.35578293],\n",
       "       [4565.        , 4465.72532766],\n",
       "       [4566.        , 4833.09487238],\n",
       "       [ 590.        ,  972.8128342 ],\n",
       "       [1205.        , 1340.18237892],\n",
       "       [1915.        , 1681.31124188],\n",
       "       [2140.        , 2048.6807866 ],\n",
       "       [2710.        , 2416.05033132],\n",
       "       [3020.        , 2783.41987604],\n",
       "       [3030.        , 3150.78942076],\n",
       "       [3040.        , 3518.15896549],\n",
       "       [3180.        , 3885.52851021],\n",
       "       [3257.        , 4252.89805493],\n",
       "       [3214.        , 4620.26759965]])"
      ]
     },
     "execution_count": 8,
     "metadata": {},
     "output_type": "execute_result"
    }
   ],
   "source": [
    "print('Comparing original y-values with predictions:')\n",
    "np.concatenate((y, y_hat), axis=1)"
   ]
  },
  {
   "cell_type": "code",
   "execution_count": 9,
   "metadata": {},
   "outputs": [
    {
     "data": {
      "image/png": "[encoded data removed]",
      "text/plain": [
       "<Figure size 432x288 with 1 Axes>"
      ]
     },
     "metadata": {
      "needs_background": "light"
     },
     "output_type": "display_data"
    }
   ],
   "source": [
    "plt.plot(y, y_hat, '.')\n",
    "plt.title('Comparing measured and predicted values of y')\n",
    "plt.xlabel('Measured value of y')\n",
    "plt.ylabel('Predicted value of y')\n",
    "plt.show()"
   ]
  },
  {
   "cell_type": "code",
   "execution_count": null,
   "metadata": {},
   "outputs": [],
   "source": []
  }
 ],
 "metadata": {
  "kernelspec": {
   "display_name": "Python 3",
   "language": "python",
   "name": "python3"
  },
  "language_info": {
   "codemirror_mode": {
    "name": "ipython",
    "version": 3
   },
   "file_extension": ".py",
   "mimetype": "text/x-python",
   "name": "python",
   "nbconvert_exporter": "python",
   "pygments_lexer": "ipython3",
   "version": "3.6.7"
  }
 },
 "nbformat": 4,
 "nbformat_minor": 2
}
