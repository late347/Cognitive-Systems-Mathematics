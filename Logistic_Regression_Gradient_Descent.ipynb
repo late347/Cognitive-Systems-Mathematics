{
 "cells": [
  {
   "cell_type": "code",
   "execution_count": 79,
   "metadata": {},
   "outputs": [],
   "source": [
    "import numpy as np\n",
    "import matplotlib.pyplot as plt\n",
    "from sklearn.linear_model import LogisticRegression\n",
    "\n",
    "def sigmoid(x):\n",
    "    return 1/(1 + np.exp(-x))"
   ]
  },
  {
   "cell_type": "markdown",
   "metadata": {},
   "source": [
    "# Simulate Data for Logistic Regression"
   ]
  },
  {
   "cell_type": "code",
   "execution_count": 83,
   "metadata": {},
   "outputs": [
    {
     "data": {
      "image/png": "[encoded data removed]",
      "text/plain": [
       "<Figure size 432x288 with 1 Axes>"
      ]
     },
     "metadata": {
      "needs_background": "light"
     },
     "output_type": "display_data"
    }
   ],
   "source": [
    "n = 50;\n",
    "x = np.random.rand(n,1)\n",
    "\n",
    "a = 17;\n",
    "b = -9;\n",
    "y = np.rint(sigmoid(a*x + b + 2*np.random.randn(n,1)))\n",
    "\n",
    "plt.plot(x, y, 'o')\n",
    "plt.show()"
   ]
  },
  {
   "cell_type": "markdown",
   "metadata": {},
   "source": [
    "# Logistic Regression with SkLearn"
   ]
  },
  {
   "cell_type": "code",
   "execution_count": 84,
   "metadata": {},
   "outputs": [
    {
     "name": "stdout",
     "output_type": "stream",
     "text": [
      "Virheiden lkm:  10.0  /  50\n",
      "[-1.75157168] [[2.75882022]]\n"
     ]
    },
    {
     "data": {
      "image/png": "[encoded data removed]",
      "text/plain": [
       "<Figure size 432x288 with 1 Axes>"
      ]
     },
     "metadata": {
      "needs_background": "light"
     },
     "output_type": "display_data"
    }
   ],
   "source": [
    "model = LogisticRegression(solver='sag', max_iter=10000)\n",
    "\n",
    "y1 = y.reshape(n)\n",
    "p = model.fit(x, y1)\n",
    "z_hat = p.predict(x)\n",
    "\n",
    "print('Virheiden lkm: ', np.sum(np.abs(z_hat - y1)), ' / ', n)\n",
    "print(model.intercept_, model.coef_)\n",
    "\n",
    "plt.plot(x, y, 'bo')\n",
    "plt.plot(x, z_hat, 'r.')\n",
    "plt.show()"
   ]
  },
  {
   "cell_type": "markdown",
   "metadata": {},
   "source": [
    "# Logistic Regression with Gradient Descent"
   ]
  },
  {
   "cell_type": "code",
   "execution_count": 85,
   "metadata": {},
   "outputs": [
    {
     "name": "stdout",
     "output_type": "stream",
     "text": [
      "Virheiden lkm:  7.0  /  50\n",
      "[[-5.23419045]\n",
      " [ 9.36181251]]\n"
     ]
    },
    {
     "data": {
      "image/png": "[encoded data removed]",
      "text/plain": [
       "<Figure size 432x288 with 1 Axes>"
      ]
     },
     "metadata": {
      "needs_background": "light"
     },
     "output_type": "display_data"
    }
   ],
   "source": [
    "X = np.concatenate((np.ones((n,1)), x), axis=1)\n",
    "\n",
    "M = np.random.randn(2, 1)\n",
    "alpha = 0.1\n",
    "\n",
    "for k in range(10000):\n",
    "    y_hat = sigmoid(X.dot(M))\n",
    "    dM = -X.T.dot(y - y_hat)/n\n",
    "    M = M - alpha*dM\n",
    "    \n",
    "z_hat = np.rint(sigmoid(X.dot(M)))\n",
    "\n",
    "print('Virheiden lkm: ', np.sum(np.abs(z_hat - y)), ' / ', n)\n",
    "print(M)\n",
    "\n",
    "plt.figure()\n",
    "plt.plot(x, y, 'bo')\n",
    "plt.plot(x, z_hat, 'r.')\n",
    "plt.show()"
   ]
  },
  {
   "cell_type": "code",
   "execution_count": null,
   "metadata": {},
   "outputs": [],
   "source": []
  },
  {
   "cell_type": "code",
   "execution_count": null,
   "metadata": {},
   "outputs": [],
   "source": []
  }
 ],
 "metadata": {
  "kernelspec": {
   "display_name": "Python 3",
   "language": "python",
   "name": "python3"
  },
  "language_info": {
   "codemirror_mode": {
    "name": "ipython",
    "version": 3
   },
   "file_extension": ".py",
   "mimetype": "text/x-python",
   "name": "python",
   "nbconvert_exporter": "python",
   "pygments_lexer": "ipython3",
   "version": "3.6.8"
  }
 },
 "nbformat": 4,
 "nbformat_minor": 2
}
