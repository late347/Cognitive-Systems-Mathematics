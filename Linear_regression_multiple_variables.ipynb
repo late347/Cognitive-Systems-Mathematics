{
 "cells": [
  {
   "cell_type": "code",
   "execution_count": 4,
   "metadata": {},
   "outputs": [],
   "source": [
    "import numpy as np\n",
    "import matplotlib.pyplot as plt"
   ]
  },
  {
   "cell_type": "markdown",
   "metadata": {},
   "source": [
    "<h1>Linear Regression with Multiple Variables, Normal Equation</h1>"
   ]
  },
  {
   "cell_type": "code",
   "execution_count": 55,
   "metadata": {},
   "outputs": [],
   "source": [
    "# Input features x1, x2, x3\n",
    "x1 = np.array([2104, 1416, 1534, 852]).reshape(4,1)\n",
    "x2 = np.array([5, 3, 3, 2]).reshape(4,1).reshape(4,1)\n",
    "x3 = np.array([1, 2, 2, 1]).reshape(4,1).reshape(4,1)\n",
    "\n",
    "# Output variable y\n",
    "y = np.array([460, 232, 315, 178]).reshape(4,1)\n",
    "\n",
    "X = np.concatenate((np.ones((4,1)), x1, x2, x3), axis=1)\n",
    "\n",
    "# Calculate coefficients using Normal Equation\n",
    "M = np.linalg.inv(X.T.dot(X)).dot(X.T).dot(y)"
   ]
  },
  {
   "cell_type": "code",
   "execution_count": 54,
   "metadata": {},
   "outputs": [
    {
     "name": "stdout",
     "output_type": "stream",
     "text": [
      "[[460]\n",
      " [232]\n",
      " [315]\n",
      " [178]]\n",
      "[[ 460.]\n",
      " [ 232.]\n",
      " [ 315.]\n",
      " [ 178.]]\n"
     ]
    }
   ],
   "source": [
    "y_estimate = X.dot(M)\n",
    "print(y)\n",
    "print(y_estimate)"
   ]
  },
  {
   "cell_type": "code",
   "execution_count": null,
   "metadata": {},
   "outputs": [],
   "source": [
    "1   14  25   620\n",
    " 2   28  25  1315\n",
    " 3   41  25  2120\n",
    " 4   55  25  2600\n",
    " 5   69  25  3110\n",
    " 6   83  25  3535\n",
    " 7   97  25  3935\n",
    " 8  111  25  4465\n",
    " 9  125  25  4530\n",
    "10  139  25  4570\n",
    "11  153  25  4600\n",
    "12   14  27   625\n",
    "13   28  27  1215\n",
    "14   41  27  2110\n",
    "15   55  27  2805\n",
    "16   69  27  3255\n",
    "17   83  27  4015\n",
    "18   97  27  4315\n",
    "19  111  27  4495\n",
    "20  125  27  4535\n",
    "21  139  27  4600\n",
    "22  153  27  4600\n",
    "23   14  29   590\n",
    "24   28  29  1305\n",
    "25   41  29  2140\n",
    "26   55  29  2890\n",
    "27   69  29  3920\n",
    "28   83  29  3920\n",
    "29   97  29  4515\n",
    "30  111  29  4520\n",
    "31  125  29  4525\n",
    "32  139  29  4565\n",
    "33  153  29  4566\n",
    "34   14  31   590\n",
    "35   28  31  1205\n",
    "36   41  31  1915\n",
    "37   55  31  2140\n",
    "38   69  31  2710\n",
    "39   83  31  3020\n",
    "40   97  31  3030\n",
    "41  111  31  3040\n",
    "42  125  31  3180\n",
    "43  139  31  3257\n",
    "44  153  31  3214"
   ]
  },
  {
   "cell_type": "code",
   "execution_count": null,
   "metadata": {},
   "outputs": [],
   "source": []
  }
 ],
 "metadata": {
  "kernelspec": {
   "display_name": "Python 3",
   "language": "python",
   "name": "python3"
  },
  "language_info": {
   "codemirror_mode": {
    "name": "ipython",
    "version": 3
   },
   "file_extension": ".py",
   "mimetype": "text/x-python",
   "name": "python",
   "nbconvert_exporter": "python",
   "pygments_lexer": "ipython3",
   "version": "3.6.3"
  }
 },
 "nbformat": 4,
 "nbformat_minor": 2
}
