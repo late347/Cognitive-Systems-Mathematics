{
 "cells": [
  {
   "cell_type": "code",
   "execution_count": 1,
   "metadata": {},
   "outputs": [],
   "source": [
    "import numpy as np\n",
    "import matplotlib.pyplot as plt"
   ]
  },
  {
   "cell_type": "markdown",
   "metadata": {},
   "source": [
    "# 3."
   ]
  },
  {
   "cell_type": "code",
   "execution_count": 17,
   "metadata": {},
   "outputs": [
    {
     "data": {
      "image/png": "[encoded data removed]",
      "text/plain": [
       "<Figure size 432x288 with 1 Axes>"
      ]
     },
     "metadata": {
      "needs_background": "light"
     },
     "output_type": "display_data"
    }
   ],
   "source": [
    "x = np.linspace(-5, 2, 1000)\n",
    "f = x**4 + 5*x**3 - 7*x\n",
    "\n",
    "plt.plot(x, f)\n",
    "plt.grid()\n",
    "plt.show()"
   ]
  },
  {
   "cell_type": "code",
   "execution_count": 18,
   "metadata": {},
   "outputs": [
    {
     "name": "stdout",
     "output_type": "stream",
     "text": [
      "0.6319535251647734\n"
     ]
    }
   ],
   "source": [
    "# Derivative of f(x) = x^4 + 5*x^3 - 7*x\n",
    "# is f'(x) = 4*x^3 + 15*x^2 - 7\n",
    "\n",
    "alpha = 0.01  # Learning Rate\n",
    "\n",
    "x = 0\n",
    "\n",
    "for k in range(100):\n",
    "    x = x - alpha * (4*x**3 + 15*x**2 - 7)\n",
    "    \n",
    "print(x)"
   ]
  },
  {
   "cell_type": "markdown",
   "metadata": {},
   "source": [
    "# 4."
   ]
  },
  {
   "cell_type": "code",
   "execution_count": 22,
   "metadata": {},
   "outputs": [
    {
     "name": "stdout",
     "output_type": "stream",
     "text": [
      "-1.7999999999999927 2.599999999999989\n"
     ]
    }
   ],
   "source": [
    "# Partial derivatives of\n",
    "# f(x, y) = 3x^2 + 3xy + 2y^2 + 3x - 5y \n",
    "# are\n",
    "# (d/dx)f = 6x + 3y + 3\n",
    "# (d/dy)f = 3x + 4y - 5\n",
    "\n",
    "alpha = 0.01\n",
    "\n",
    "x = 0\n",
    "y = 0\n",
    "\n",
    "for k in range(10000):\n",
    "    # We need to use the old values (x, y)\n",
    "    x1 = x - alpha * (6*x + 3*y + 3)\n",
    "    y1 = y - alpha * (3*x + 4*y - 5)\n",
    "    x = x1\n",
    "    y = y1\n",
    "    \n",
    "print(x, y)"
   ]
  },
  {
   "cell_type": "code",
   "execution_count": null,
   "metadata": {},
   "outputs": [],
   "source": []
  }
 ],
 "metadata": {
  "kernelspec": {
   "display_name": "Python 3",
   "language": "python",
   "name": "python3"
  },
  "language_info": {
   "codemirror_mode": {
    "name": "ipython",
    "version": 3
   },
   "file_extension": ".py",
   "mimetype": "text/x-python",
   "name": "python",
   "nbconvert_exporter": "python",
   "pygments_lexer": "ipython3",
   "version": "3.6.8"
  }
 },
 "nbformat": 4,
 "nbformat_minor": 2
}
