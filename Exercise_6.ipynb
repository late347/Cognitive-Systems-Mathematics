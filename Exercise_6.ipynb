{
 "cells": [
  {
   "cell_type": "code",
   "execution_count": 2,
   "metadata": {},
   "outputs": [],
   "source": [
    "import numpy as np\n",
    "import matplotlib.pyplot as plt"
   ]
  },
  {
   "cell_type": "markdown",
   "metadata": {},
   "source": [
    "## Exercise 6.2"
   ]
  },
  {
   "cell_type": "code",
   "execution_count": 4,
   "metadata": {},
   "outputs": [
    {
     "name": "stdout",
     "output_type": "stream",
     "text": [
      "[[ 10]\n",
      " [-15]]\n",
      "[[ 610]\n",
      " [-221]]\n"
     ]
    }
   ],
   "source": [
    "alpha = 2\n",
    "X0 = np.array([[2], [-1]])\n",
    "\n",
    "def gradient_a(X):\n",
    "    x = X[0, 0]\n",
    "    y = X[1, 0]\n",
    "    df = np.array([[2*x*y], [x**2 + 3]])\n",
    "    return df\n",
    "\n",
    "X1 = X0 - alpha*gradient_a(X0)\n",
    "X2 = X1 - alpha*gradient_a(X1)\n",
    "\n",
    "print(X1)\n",
    "print(X2)"
   ]
  },
  {
   "cell_type": "code",
   "execution_count": 5,
   "metadata": {},
   "outputs": [
    {
     "name": "stdout",
     "output_type": "stream",
     "text": [
      "[[-20]\n",
      " [  7]]\n",
      "[[206]\n",
      " [ 27]]\n"
     ]
    }
   ],
   "source": [
    "def gradient_b(X):\n",
    "    x = X[0, 0]\n",
    "    y = X[1, 0]\n",
    "    df = np.array([[6*x + y], [x + 2*y - 4]])\n",
    "    return df\n",
    "\n",
    "X1 = X0 - alpha*gradient_b(X0)\n",
    "X2 = X1 - alpha*gradient_b(X1)\n",
    "\n",
    "print(X1)\n",
    "print(X2)"
   ]
  },
  {
   "cell_type": "markdown",
   "metadata": {},
   "source": [
    "## Exercise 6.3"
   ]
  },
  {
   "cell_type": "code",
   "execution_count": 6,
   "metadata": {},
   "outputs": [
    {
     "name": "stdout",
     "output_type": "stream",
     "text": [
      "[[13.4]\n",
      " [12.8]]\n",
      "[[42.16]\n",
      " [39.18]]\n"
     ]
    }
   ],
   "source": [
    "A1 = np.array([[3], [2], [5]])\n",
    "W1 = np.array([[1.1, 1.3, 1.5], [0.1, 2.0, 1.7]])\n",
    "W2 = np.array([[2.0, 1.2], [1.3, 1.7]])\n",
    "\n",
    "A2 = W1.dot(A1)\n",
    "A3 = W2.dot(A2)\n",
    "print(A2)\n",
    "print(A3)"
   ]
  },
  {
   "cell_type": "code",
   "execution_count": 7,
   "metadata": {},
   "outputs": [
    {
     "name": "stdout",
     "output_type": "stream",
     "text": [
      "13.4 12.8\n"
     ]
    }
   ],
   "source": [
    "# Try to calculate A2 by hand\n",
    "a21 = 1.1*3 + 1.3*2 + 1.5*5\n",
    "a22 = 0.1*3 + 2.0*2 + 1.7*5\n",
    "print(a21, a22)"
   ]
  },
  {
   "cell_type": "code",
   "execution_count": 8,
   "metadata": {},
   "outputs": [
    {
     "name": "stdout",
     "output_type": "stream",
     "text": [
      "[[0.99999848]\n",
      " [0.99999724]]\n",
      "[[0.96083404]\n",
      " [0.95257383]]\n"
     ]
    }
   ],
   "source": [
    "def g(x):\n",
    "    return 1/(1 + np.exp(-x))\n",
    "\n",
    "A2 = g(W1.dot(A1))\n",
    "A3 = g(W2.dot(A2))\n",
    "\n",
    "print(A2)\n",
    "print(A3)"
   ]
  },
  {
   "cell_type": "markdown",
   "metadata": {},
   "source": [
    "## Exercise 6.4"
   ]
  },
  {
   "cell_type": "code",
   "execution_count": 11,
   "metadata": {},
   "outputs": [
    {
     "name": "stdout",
     "output_type": "stream",
     "text": [
      "x =  1.7272727202042644 y =  5.090909069703702\n"
     ]
    }
   ],
   "source": [
    "alpha = 0.02\n",
    "x = 20\n",
    "y = -15\n",
    "path_x = np.array([x])\n",
    "path_y = np.array([y])\n",
    "\n",
    "def dgx(x, y):\n",
    "    return 10*x - 3*y - 2\n",
    "\n",
    "def dgy(x, y):\n",
    "    return -3*x + 2*y - 5\n",
    "\n",
    "for k in range(1000):\n",
    "    x1 = x - alpha*dgx(x, y)\n",
    "    y1 = y - alpha*dgy(x, y)\n",
    "    x = x1\n",
    "    y = y1\n",
    "    path_x = np.append(path_x, x)\n",
    "    path_y = np.append(path_y, y)\n",
    "    \n",
    "print('x = ',x, 'y = ', y)"
   ]
  },
  {
   "cell_type": "code",
   "execution_count": 12,
   "metadata": {},
   "outputs": [
    {
     "data": {
      "image/png": "[encoded data removed]",
      "text/plain": [
       "<matplotlib.figure.Figure at 0x10f68e048>"
      ]
     },
     "metadata": {},
     "output_type": "display_data"
    }
   ],
   "source": [
    "xx = np.linspace(-20, 20, 100)\n",
    "yy = np.linspace(-15, 15, 100)\n",
    "(X, Y) = np.meshgrid(xx, yy)\n",
    "Z = 5*X**2 - 3*X*Y + Y**2 - 2*X - 5*Y\n",
    "plt.contour(X, Y, Z)\n",
    "plt.plot(path_x, path_y, 'r+')\n",
    "plt.axis('equal', adjustable='datalim')\n",
    "plt.show()"
   ]
  },
  {
   "cell_type": "code",
   "execution_count": null,
   "metadata": {},
   "outputs": [],
   "source": []
  }
 ],
 "metadata": {
  "kernelspec": {
   "display_name": "Python 3",
   "language": "python",
   "name": "python3"
  },
  "language_info": {
   "codemirror_mode": {
    "name": "ipython",
    "version": 3
   },
   "file_extension": ".py",
   "mimetype": "text/x-python",
   "name": "python",
   "nbconvert_exporter": "python",
   "pygments_lexer": "ipython3",
   "version": "3.6.4"
  }
 },
 "nbformat": 4,
 "nbformat_minor": 2
}
